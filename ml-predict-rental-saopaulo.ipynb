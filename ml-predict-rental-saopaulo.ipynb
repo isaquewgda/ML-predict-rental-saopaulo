{
 "cells": [
  {
   "cell_type": "code",
   "execution_count": 1,
   "id": "b3d4af09",
   "metadata": {
    "_cell_guid": "b1076dfc-b9ad-4769-8c92-a6c4dae69d19",
    "_uuid": "8f2839f25d086af736a60e9eeb907d3b93b6e0e5",
    "execution": {
     "iopub.execute_input": "2024-09-07T15:19:10.349845Z",
     "iopub.status.busy": "2024-09-07T15:19:10.349395Z",
     "iopub.status.idle": "2024-09-07T15:19:10.854630Z",
     "shell.execute_reply": "2024-09-07T15:19:10.852241Z"
    },
    "papermill": {
     "duration": 0.5223,
     "end_time": "2024-09-07T15:19:10.857571",
     "exception": false,
     "start_time": "2024-09-07T15:19:10.335271",
     "status": "completed"
    },
    "tags": []
   },
   "outputs": [
    {
     "name": "stdout",
     "output_type": "stream",
     "text": [
      "/kaggle/input/sao-paulo-housing-prices/data.csv\n"
     ]
    }
   ],
   "source": [
    "#Dataset Sao Paulo Housing Prices\n",
    "\n",
    "import numpy as np # linear algebra\n",
    "import pandas as pd # data processing, CSV file I/O (e.g. pd.read_csv)\n",
    "\n",
    "import os\n",
    "for dirname, _, filenames in os.walk('/kaggle/input'):\n",
    "    for filename in filenames:\n",
    "        print(os.path.join(dirname, filename))\n",
    "\n"
   ]
  },
  {
   "cell_type": "code",
   "execution_count": 2,
   "id": "5eee7e65",
   "metadata": {
    "execution": {
     "iopub.execute_input": "2024-09-07T15:19:10.883157Z",
     "iopub.status.busy": "2024-09-07T15:19:10.882567Z",
     "iopub.status.idle": "2024-09-07T15:19:13.183208Z",
     "shell.execute_reply": "2024-09-07T15:19:13.181798Z"
    },
    "papermill": {
     "duration": 2.31672,
     "end_time": "2024-09-07T15:19:13.186347",
     "exception": false,
     "start_time": "2024-09-07T15:19:10.869627",
     "status": "completed"
    },
    "tags": []
   },
   "outputs": [],
   "source": [
    "import matplotlib.pyplot as plt\n",
    "import seaborn as sns"
   ]
  },
  {
   "cell_type": "code",
   "execution_count": 3,
   "id": "96dd62bf",
   "metadata": {
    "execution": {
     "iopub.execute_input": "2024-09-07T15:19:13.212609Z",
     "iopub.status.busy": "2024-09-07T15:19:13.211946Z",
     "iopub.status.idle": "2024-09-07T15:19:13.297385Z",
     "shell.execute_reply": "2024-09-07T15:19:13.295348Z"
    },
    "papermill": {
     "duration": 0.102834,
     "end_time": "2024-09-07T15:19:13.300465",
     "exception": false,
     "start_time": "2024-09-07T15:19:13.197631",
     "status": "completed"
    },
    "tags": []
   },
   "outputs": [
    {
     "data": {
      "text/html": [
       "<div>\n",
       "<style scoped>\n",
       "    .dataframe tbody tr th:only-of-type {\n",
       "        vertical-align: middle;\n",
       "    }\n",
       "\n",
       "    .dataframe tbody tr th {\n",
       "        vertical-align: top;\n",
       "    }\n",
       "\n",
       "    .dataframe thead th {\n",
       "        text-align: right;\n",
       "    }\n",
       "</style>\n",
       "<table border=\"1\" class=\"dataframe\">\n",
       "  <thead>\n",
       "    <tr style=\"text-align: right;\">\n",
       "      <th></th>\n",
       "      <th>address</th>\n",
       "      <th>district</th>\n",
       "      <th>area</th>\n",
       "      <th>bedrooms</th>\n",
       "      <th>garage</th>\n",
       "      <th>type</th>\n",
       "      <th>rent</th>\n",
       "      <th>total</th>\n",
       "    </tr>\n",
       "  </thead>\n",
       "  <tbody>\n",
       "    <tr>\n",
       "      <th>0</th>\n",
       "      <td>Rua Herval</td>\n",
       "      <td>Belenzinho</td>\n",
       "      <td>21</td>\n",
       "      <td>1</td>\n",
       "      <td>0</td>\n",
       "      <td>Studio e kitnet</td>\n",
       "      <td>2400</td>\n",
       "      <td>2939</td>\n",
       "    </tr>\n",
       "    <tr>\n",
       "      <th>1</th>\n",
       "      <td>Avenida São Miguel</td>\n",
       "      <td>Vila Marieta</td>\n",
       "      <td>15</td>\n",
       "      <td>1</td>\n",
       "      <td>1</td>\n",
       "      <td>Studio e kitnet</td>\n",
       "      <td>1030</td>\n",
       "      <td>1345</td>\n",
       "    </tr>\n",
       "    <tr>\n",
       "      <th>2</th>\n",
       "      <td>Rua Oscar Freire</td>\n",
       "      <td>Pinheiros</td>\n",
       "      <td>18</td>\n",
       "      <td>1</td>\n",
       "      <td>0</td>\n",
       "      <td>Apartamento</td>\n",
       "      <td>4000</td>\n",
       "      <td>4661</td>\n",
       "    </tr>\n",
       "    <tr>\n",
       "      <th>3</th>\n",
       "      <td>Rua Júlio Sayago</td>\n",
       "      <td>Vila Ré</td>\n",
       "      <td>56</td>\n",
       "      <td>2</td>\n",
       "      <td>2</td>\n",
       "      <td>Casa em condomínio</td>\n",
       "      <td>1750</td>\n",
       "      <td>1954</td>\n",
       "    </tr>\n",
       "    <tr>\n",
       "      <th>4</th>\n",
       "      <td>Rua Barata Ribeiro</td>\n",
       "      <td>Bela Vista</td>\n",
       "      <td>19</td>\n",
       "      <td>1</td>\n",
       "      <td>0</td>\n",
       "      <td>Studio e kitnet</td>\n",
       "      <td>4000</td>\n",
       "      <td>4654</td>\n",
       "    </tr>\n",
       "  </tbody>\n",
       "</table>\n",
       "</div>"
      ],
      "text/plain": [
       "              address      district  area  bedrooms  garage  \\\n",
       "0          Rua Herval    Belenzinho    21         1       0   \n",
       "1  Avenida São Miguel  Vila Marieta    15         1       1   \n",
       "2    Rua Oscar Freire     Pinheiros    18         1       0   \n",
       "3    Rua Júlio Sayago       Vila Ré    56         2       2   \n",
       "4  Rua Barata Ribeiro    Bela Vista    19         1       0   \n",
       "\n",
       "                 type  rent  total  \n",
       "0     Studio e kitnet  2400   2939  \n",
       "1     Studio e kitnet  1030   1345  \n",
       "2         Apartamento  4000   4661  \n",
       "3  Casa em condomínio  1750   1954  \n",
       "4     Studio e kitnet  4000   4654  "
      ]
     },
     "execution_count": 3,
     "metadata": {},
     "output_type": "execute_result"
    }
   ],
   "source": [
    "houses = pd.read_csv('/kaggle/input/sao-paulo-housing-prices/data.csv')\n",
    "houses.head()"
   ]
  },
  {
   "cell_type": "code",
   "execution_count": 4,
   "id": "fa79c4f2",
   "metadata": {
    "execution": {
     "iopub.execute_input": "2024-09-07T15:19:13.326249Z",
     "iopub.status.busy": "2024-09-07T15:19:13.325761Z",
     "iopub.status.idle": "2024-09-07T15:19:13.334617Z",
     "shell.execute_reply": "2024-09-07T15:19:13.333280Z"
    },
    "papermill": {
     "duration": 0.025406,
     "end_time": "2024-09-07T15:19:13.337464",
     "exception": false,
     "start_time": "2024-09-07T15:19:13.312058",
     "status": "completed"
    },
    "tags": []
   },
   "outputs": [
    {
     "data": {
      "text/plain": [
       "(11657, 8)"
      ]
     },
     "execution_count": 4,
     "metadata": {},
     "output_type": "execute_result"
    }
   ],
   "source": [
    "houses.shape"
   ]
  },
  {
   "cell_type": "code",
   "execution_count": 5,
   "id": "28936ae1",
   "metadata": {
    "execution": {
     "iopub.execute_input": "2024-09-07T15:19:13.365078Z",
     "iopub.status.busy": "2024-09-07T15:19:13.364604Z",
     "iopub.status.idle": "2024-09-07T15:19:13.397547Z",
     "shell.execute_reply": "2024-09-07T15:19:13.395630Z"
    },
    "papermill": {
     "duration": 0.050364,
     "end_time": "2024-09-07T15:19:13.400507",
     "exception": false,
     "start_time": "2024-09-07T15:19:13.350143",
     "status": "completed"
    },
    "tags": []
   },
   "outputs": [
    {
     "name": "stdout",
     "output_type": "stream",
     "text": [
      "<class 'pandas.core.frame.DataFrame'>\n",
      "RangeIndex: 11657 entries, 0 to 11656\n",
      "Data columns (total 8 columns):\n",
      " #   Column    Non-Null Count  Dtype \n",
      "---  ------    --------------  ----- \n",
      " 0   address   11657 non-null  object\n",
      " 1   district  11657 non-null  object\n",
      " 2   area      11657 non-null  int64 \n",
      " 3   bedrooms  11657 non-null  int64 \n",
      " 4   garage    11657 non-null  int64 \n",
      " 5   type      11657 non-null  object\n",
      " 6   rent      11657 non-null  int64 \n",
      " 7   total     11657 non-null  int64 \n",
      "dtypes: int64(5), object(3)\n",
      "memory usage: 728.7+ KB\n"
     ]
    }
   ],
   "source": [
    "houses.info()"
   ]
  },
  {
   "cell_type": "code",
   "execution_count": 6,
   "id": "b26cd98b",
   "metadata": {
    "execution": {
     "iopub.execute_input": "2024-09-07T15:19:13.426615Z",
     "iopub.status.busy": "2024-09-07T15:19:13.425673Z",
     "iopub.status.idle": "2024-09-07T15:19:13.446385Z",
     "shell.execute_reply": "2024-09-07T15:19:13.444951Z"
    },
    "papermill": {
     "duration": 0.037467,
     "end_time": "2024-09-07T15:19:13.449666",
     "exception": false,
     "start_time": "2024-09-07T15:19:13.412199",
     "status": "completed"
    },
    "tags": []
   },
   "outputs": [
    {
     "data": {
      "text/plain": [
       "address     5348\n",
       "district    1199\n",
       "area         381\n",
       "bedrooms       7\n",
       "garage         7\n",
       "type           4\n",
       "rent        1662\n",
       "total       5571\n",
       "dtype: int64"
      ]
     },
     "execution_count": 6,
     "metadata": {},
     "output_type": "execute_result"
    }
   ],
   "source": [
    "houses.nunique()"
   ]
  },
  {
   "cell_type": "code",
   "execution_count": 7,
   "id": "581ab38c",
   "metadata": {
    "execution": {
     "iopub.execute_input": "2024-09-07T15:19:13.477561Z",
     "iopub.status.busy": "2024-09-07T15:19:13.477019Z",
     "iopub.status.idle": "2024-09-07T15:19:13.486782Z",
     "shell.execute_reply": "2024-09-07T15:19:13.485575Z"
    },
    "papermill": {
     "duration": 0.027632,
     "end_time": "2024-09-07T15:19:13.489865",
     "exception": false,
     "start_time": "2024-09-07T15:19:13.462233",
     "status": "completed"
    },
    "tags": []
   },
   "outputs": [
    {
     "data": {
      "text/plain": [
       "array(['Studio e kitnet', 'Apartamento', 'Casa em condomínio', 'Casa'],\n",
       "      dtype=object)"
      ]
     },
     "execution_count": 7,
     "metadata": {},
     "output_type": "execute_result"
    }
   ],
   "source": [
    "houses.type.unique()"
   ]
  },
  {
   "cell_type": "code",
   "execution_count": 8,
   "id": "a6ae7bcd",
   "metadata": {
    "execution": {
     "iopub.execute_input": "2024-09-07T15:19:13.515961Z",
     "iopub.status.busy": "2024-09-07T15:19:13.515507Z",
     "iopub.status.idle": "2024-09-07T15:19:13.528792Z",
     "shell.execute_reply": "2024-09-07T15:19:13.527412Z"
    },
    "papermill": {
     "duration": 0.030301,
     "end_time": "2024-09-07T15:19:13.532328",
     "exception": false,
     "start_time": "2024-09-07T15:19:13.502027",
     "status": "completed"
    },
    "tags": []
   },
   "outputs": [
    {
     "name": "stdout",
     "output_type": "stream",
     "text": [
      "type\n",
      "Apartamento           61.713992\n",
      "Casa                  24.371622\n",
      "Studio e kitnet       11.846959\n",
      "Casa em condomínio     2.067427\n",
      "Name: count, dtype: float64\n"
     ]
    }
   ],
   "source": [
    "# Contagem de cada valor único na coluna 'type'\n",
    "contagem_valores = houses['type'].value_counts()\n",
    "\n",
    "# Calcular percentual de cada valor único\n",
    "percentual_valores = contagem_valores / len(houses) * 100\n",
    "\n",
    "# Exibir os resultados\n",
    "print(percentual_valores)"
   ]
  },
  {
   "cell_type": "code",
   "execution_count": 9,
   "id": "43455b73",
   "metadata": {
    "execution": {
     "iopub.execute_input": "2024-09-07T15:19:13.558792Z",
     "iopub.status.busy": "2024-09-07T15:19:13.558331Z",
     "iopub.status.idle": "2024-09-07T15:19:13.577628Z",
     "shell.execute_reply": "2024-09-07T15:19:13.576299Z"
    },
    "papermill": {
     "duration": 0.036387,
     "end_time": "2024-09-07T15:19:13.580665",
     "exception": false,
     "start_time": "2024-09-07T15:19:13.544278",
     "status": "completed"
    },
    "tags": []
   },
   "outputs": [
    {
     "data": {
      "text/html": [
       "<div>\n",
       "<style scoped>\n",
       "    .dataframe tbody tr th:only-of-type {\n",
       "        vertical-align: middle;\n",
       "    }\n",
       "\n",
       "    .dataframe tbody tr th {\n",
       "        vertical-align: top;\n",
       "    }\n",
       "\n",
       "    .dataframe thead th {\n",
       "        text-align: right;\n",
       "    }\n",
       "</style>\n",
       "<table border=\"1\" class=\"dataframe\">\n",
       "  <thead>\n",
       "    <tr style=\"text-align: right;\">\n",
       "      <th></th>\n",
       "      <th>area</th>\n",
       "      <th>bedrooms</th>\n",
       "      <th>garage</th>\n",
       "      <th>type</th>\n",
       "      <th>rent</th>\n",
       "      <th>total</th>\n",
       "    </tr>\n",
       "  </thead>\n",
       "  <tbody>\n",
       "    <tr>\n",
       "      <th>0</th>\n",
       "      <td>21</td>\n",
       "      <td>1</td>\n",
       "      <td>0</td>\n",
       "      <td>Studio e kitnet</td>\n",
       "      <td>2400</td>\n",
       "      <td>2939</td>\n",
       "    </tr>\n",
       "    <tr>\n",
       "      <th>1</th>\n",
       "      <td>15</td>\n",
       "      <td>1</td>\n",
       "      <td>1</td>\n",
       "      <td>Studio e kitnet</td>\n",
       "      <td>1030</td>\n",
       "      <td>1345</td>\n",
       "    </tr>\n",
       "    <tr>\n",
       "      <th>2</th>\n",
       "      <td>18</td>\n",
       "      <td>1</td>\n",
       "      <td>0</td>\n",
       "      <td>Apartamento</td>\n",
       "      <td>4000</td>\n",
       "      <td>4661</td>\n",
       "    </tr>\n",
       "    <tr>\n",
       "      <th>3</th>\n",
       "      <td>56</td>\n",
       "      <td>2</td>\n",
       "      <td>2</td>\n",
       "      <td>Casa em condomínio</td>\n",
       "      <td>1750</td>\n",
       "      <td>1954</td>\n",
       "    </tr>\n",
       "    <tr>\n",
       "      <th>4</th>\n",
       "      <td>19</td>\n",
       "      <td>1</td>\n",
       "      <td>0</td>\n",
       "      <td>Studio e kitnet</td>\n",
       "      <td>4000</td>\n",
       "      <td>4654</td>\n",
       "    </tr>\n",
       "  </tbody>\n",
       "</table>\n",
       "</div>"
      ],
      "text/plain": [
       "   area  bedrooms  garage                type  rent  total\n",
       "0    21         1       0     Studio e kitnet  2400   2939\n",
       "1    15         1       1     Studio e kitnet  1030   1345\n",
       "2    18         1       0         Apartamento  4000   4661\n",
       "3    56         2       2  Casa em condomínio  1750   1954\n",
       "4    19         1       0     Studio e kitnet  4000   4654"
      ]
     },
     "execution_count": 9,
     "metadata": {},
     "output_type": "execute_result"
    }
   ],
   "source": [
    "houses = houses.drop(columns=['address', 'district'])\n",
    "houses.head()"
   ]
  },
  {
   "cell_type": "code",
   "execution_count": 10,
   "id": "e3474732",
   "metadata": {
    "execution": {
     "iopub.execute_input": "2024-09-07T15:19:13.608476Z",
     "iopub.status.busy": "2024-09-07T15:19:13.608027Z",
     "iopub.status.idle": "2024-09-07T15:19:13.625384Z",
     "shell.execute_reply": "2024-09-07T15:19:13.624097Z"
    },
    "papermill": {
     "duration": 0.034886,
     "end_time": "2024-09-07T15:19:13.628393",
     "exception": false,
     "start_time": "2024-09-07T15:19:13.593507",
     "status": "completed"
    },
    "tags": []
   },
   "outputs": [
    {
     "name": "stdout",
     "output_type": "stream",
     "text": [
      "      area  bedrooms  garage  type  rent  total  custo_beneficio\n",
      "9657   180         1       0  Casa   800    814         4.522222\n"
     ]
    }
   ],
   "source": [
    "# Calcular o custo-benefício (total/area) como preço por metro quadrado\n",
    "houses['custo_beneficio'] = houses['total'] / houses['area']\n",
    "\n",
    "# Ordenar pelo melhor custo-benefício (menor valor de custo por metro quadrado)\n",
    "melhor_custo_beneficio = houses.sort_values(by='custo_beneficio')\n",
    "\n",
    "# Exibir a casa com o melhor custo-benefício\n",
    "print(melhor_custo_beneficio.head(1))\n"
   ]
  },
  {
   "cell_type": "code",
   "execution_count": 11,
   "id": "d286ce8c",
   "metadata": {
    "execution": {
     "iopub.execute_input": "2024-09-07T15:19:13.655151Z",
     "iopub.status.busy": "2024-09-07T15:19:13.654631Z",
     "iopub.status.idle": "2024-09-07T15:19:13.669262Z",
     "shell.execute_reply": "2024-09-07T15:19:13.667998Z"
    },
    "papermill": {
     "duration": 0.031298,
     "end_time": "2024-09-07T15:19:13.672175",
     "exception": false,
     "start_time": "2024-09-07T15:19:13.640877",
     "status": "completed"
    },
    "tags": []
   },
   "outputs": [
    {
     "name": "stdout",
     "output_type": "stream",
     "text": [
      "       area  bedrooms  garage                type  rent  total  \\\n",
      "3061     30         2       0                Casa   550    574   \n",
      "4994     80         3       1                Casa  1000   1042   \n",
      "5999     80         3       0                Casa  1000   1042   \n",
      "2274     40         3       0                Casa   900   1063   \n",
      "10539    67         3       1  Casa em condomínio  1050   1136   \n",
      "4643     50         2       0                Casa   730    761   \n",
      "6592     95         3       0                Casa  1100   1147   \n",
      "3432     35         2       0                Casa   800    814   \n",
      "10559    70         2       0                Casa   500    821   \n",
      "4397     30         2       0                Casa   800    834   \n",
      "\n",
      "       custo_beneficio  \n",
      "3061        287.000000  \n",
      "4994        347.333333  \n",
      "5999        347.333333  \n",
      "2274        354.333333  \n",
      "10539       378.666667  \n",
      "4643        380.500000  \n",
      "6592        382.333333  \n",
      "3432        407.000000  \n",
      "10559       410.500000  \n",
      "4397        417.000000  \n"
     ]
    }
   ],
   "source": [
    "# Calcular o custo-benefício como total dividido pelo número de quartos\n",
    "houses['custo_beneficio'] = houses['total'] / houses['bedrooms']\n",
    "\n",
    "# Ordenar pelo melhor custo-benefício (menor valor de total por quarto)\n",
    "melhor_custo_beneficio = houses.sort_values(by='custo_beneficio')\n",
    "\n",
    "# Exibir a casa com o melhor custo-benefício\n",
    "print(melhor_custo_beneficio.head(10))\n"
   ]
  },
  {
   "cell_type": "code",
   "execution_count": 12,
   "id": "85d0d80e",
   "metadata": {
    "execution": {
     "iopub.execute_input": "2024-09-07T15:19:13.699928Z",
     "iopub.status.busy": "2024-09-07T15:19:13.699516Z",
     "iopub.status.idle": "2024-09-07T15:19:13.717453Z",
     "shell.execute_reply": "2024-09-07T15:19:13.716227Z"
    },
    "papermill": {
     "duration": 0.034735,
     "end_time": "2024-09-07T15:19:13.720217",
     "exception": false,
     "start_time": "2024-09-07T15:19:13.685482",
     "status": "completed"
    },
    "tags": []
   },
   "outputs": [
    {
     "data": {
      "text/html": [
       "<div>\n",
       "<style scoped>\n",
       "    .dataframe tbody tr th:only-of-type {\n",
       "        vertical-align: middle;\n",
       "    }\n",
       "\n",
       "    .dataframe tbody tr th {\n",
       "        vertical-align: top;\n",
       "    }\n",
       "\n",
       "    .dataframe thead th {\n",
       "        text-align: right;\n",
       "    }\n",
       "</style>\n",
       "<table border=\"1\" class=\"dataframe\">\n",
       "  <thead>\n",
       "    <tr style=\"text-align: right;\">\n",
       "      <th></th>\n",
       "      <th>area</th>\n",
       "      <th>bedrooms</th>\n",
       "      <th>garage</th>\n",
       "      <th>type</th>\n",
       "      <th>rent</th>\n",
       "      <th>total</th>\n",
       "      <th>custo_beneficio</th>\n",
       "      <th>bedroom_and_garage</th>\n",
       "    </tr>\n",
       "  </thead>\n",
       "  <tbody>\n",
       "    <tr>\n",
       "      <th>0</th>\n",
       "      <td>21</td>\n",
       "      <td>1</td>\n",
       "      <td>0</td>\n",
       "      <td>Studio e kitnet</td>\n",
       "      <td>2400</td>\n",
       "      <td>2939</td>\n",
       "      <td>2939.0</td>\n",
       "      <td>0</td>\n",
       "    </tr>\n",
       "    <tr>\n",
       "      <th>1</th>\n",
       "      <td>15</td>\n",
       "      <td>1</td>\n",
       "      <td>1</td>\n",
       "      <td>Studio e kitnet</td>\n",
       "      <td>1030</td>\n",
       "      <td>1345</td>\n",
       "      <td>1345.0</td>\n",
       "      <td>1</td>\n",
       "    </tr>\n",
       "    <tr>\n",
       "      <th>2</th>\n",
       "      <td>18</td>\n",
       "      <td>1</td>\n",
       "      <td>0</td>\n",
       "      <td>Apartamento</td>\n",
       "      <td>4000</td>\n",
       "      <td>4661</td>\n",
       "      <td>4661.0</td>\n",
       "      <td>0</td>\n",
       "    </tr>\n",
       "    <tr>\n",
       "      <th>3</th>\n",
       "      <td>56</td>\n",
       "      <td>2</td>\n",
       "      <td>2</td>\n",
       "      <td>Casa em condomínio</td>\n",
       "      <td>1750</td>\n",
       "      <td>1954</td>\n",
       "      <td>977.0</td>\n",
       "      <td>1</td>\n",
       "    </tr>\n",
       "    <tr>\n",
       "      <th>4</th>\n",
       "      <td>19</td>\n",
       "      <td>1</td>\n",
       "      <td>0</td>\n",
       "      <td>Studio e kitnet</td>\n",
       "      <td>4000</td>\n",
       "      <td>4654</td>\n",
       "      <td>4654.0</td>\n",
       "      <td>0</td>\n",
       "    </tr>\n",
       "  </tbody>\n",
       "</table>\n",
       "</div>"
      ],
      "text/plain": [
       "   area  bedrooms  garage                type  rent  total  custo_beneficio  \\\n",
       "0    21         1       0     Studio e kitnet  2400   2939           2939.0   \n",
       "1    15         1       1     Studio e kitnet  1030   1345           1345.0   \n",
       "2    18         1       0         Apartamento  4000   4661           4661.0   \n",
       "3    56         2       2  Casa em condomínio  1750   1954            977.0   \n",
       "4    19         1       0     Studio e kitnet  4000   4654           4654.0   \n",
       "\n",
       "   bedroom_and_garage  \n",
       "0                   0  \n",
       "1                   1  \n",
       "2                   0  \n",
       "3                   1  \n",
       "4                   0  "
      ]
     },
     "execution_count": 12,
     "metadata": {},
     "output_type": "execute_result"
    }
   ],
   "source": [
    "houses['bedroom_and_garage'] = np.where((houses['bedrooms']>0) & (houses['garage']>0), 1, 0)\n",
    "houses.head()"
   ]
  },
  {
   "cell_type": "code",
   "execution_count": 13,
   "id": "2746a8cf",
   "metadata": {
    "execution": {
     "iopub.execute_input": "2024-09-07T15:19:13.750187Z",
     "iopub.status.busy": "2024-09-07T15:19:13.749136Z",
     "iopub.status.idle": "2024-09-07T15:19:13.767268Z",
     "shell.execute_reply": "2024-09-07T15:19:13.765533Z"
    },
    "papermill": {
     "duration": 0.036427,
     "end_time": "2024-09-07T15:19:13.770654",
     "exception": false,
     "start_time": "2024-09-07T15:19:13.734227",
     "status": "completed"
    },
    "tags": []
   },
   "outputs": [
    {
     "data": {
      "text/html": [
       "<div>\n",
       "<style scoped>\n",
       "    .dataframe tbody tr th:only-of-type {\n",
       "        vertical-align: middle;\n",
       "    }\n",
       "\n",
       "    .dataframe tbody tr th {\n",
       "        vertical-align: top;\n",
       "    }\n",
       "\n",
       "    .dataframe thead th {\n",
       "        text-align: right;\n",
       "    }\n",
       "</style>\n",
       "<table border=\"1\" class=\"dataframe\">\n",
       "  <thead>\n",
       "    <tr style=\"text-align: right;\">\n",
       "      <th></th>\n",
       "      <th>area</th>\n",
       "      <th>bedrooms</th>\n",
       "      <th>garage</th>\n",
       "      <th>type</th>\n",
       "      <th>rent</th>\n",
       "      <th>total</th>\n",
       "      <th>bedroom_and_garage</th>\n",
       "    </tr>\n",
       "  </thead>\n",
       "  <tbody>\n",
       "    <tr>\n",
       "      <th>0</th>\n",
       "      <td>21</td>\n",
       "      <td>1</td>\n",
       "      <td>0</td>\n",
       "      <td>Studio e kitnet</td>\n",
       "      <td>2400</td>\n",
       "      <td>2939</td>\n",
       "      <td>0</td>\n",
       "    </tr>\n",
       "    <tr>\n",
       "      <th>1</th>\n",
       "      <td>15</td>\n",
       "      <td>1</td>\n",
       "      <td>1</td>\n",
       "      <td>Studio e kitnet</td>\n",
       "      <td>1030</td>\n",
       "      <td>1345</td>\n",
       "      <td>1</td>\n",
       "    </tr>\n",
       "    <tr>\n",
       "      <th>2</th>\n",
       "      <td>18</td>\n",
       "      <td>1</td>\n",
       "      <td>0</td>\n",
       "      <td>Apartamento</td>\n",
       "      <td>4000</td>\n",
       "      <td>4661</td>\n",
       "      <td>0</td>\n",
       "    </tr>\n",
       "    <tr>\n",
       "      <th>3</th>\n",
       "      <td>56</td>\n",
       "      <td>2</td>\n",
       "      <td>2</td>\n",
       "      <td>Casa em condomínio</td>\n",
       "      <td>1750</td>\n",
       "      <td>1954</td>\n",
       "      <td>1</td>\n",
       "    </tr>\n",
       "    <tr>\n",
       "      <th>4</th>\n",
       "      <td>19</td>\n",
       "      <td>1</td>\n",
       "      <td>0</td>\n",
       "      <td>Studio e kitnet</td>\n",
       "      <td>4000</td>\n",
       "      <td>4654</td>\n",
       "      <td>0</td>\n",
       "    </tr>\n",
       "  </tbody>\n",
       "</table>\n",
       "</div>"
      ],
      "text/plain": [
       "   area  bedrooms  garage                type  rent  total  bedroom_and_garage\n",
       "0    21         1       0     Studio e kitnet  2400   2939                   0\n",
       "1    15         1       1     Studio e kitnet  1030   1345                   1\n",
       "2    18         1       0         Apartamento  4000   4661                   0\n",
       "3    56         2       2  Casa em condomínio  1750   1954                   1\n",
       "4    19         1       0     Studio e kitnet  4000   4654                   0"
      ]
     },
     "execution_count": 13,
     "metadata": {},
     "output_type": "execute_result"
    }
   ],
   "source": [
    "houses = houses.drop(columns=['custo_beneficio'])\n",
    "houses.head()"
   ]
  },
  {
   "cell_type": "code",
   "execution_count": 14,
   "id": "0770fb9d",
   "metadata": {
    "execution": {
     "iopub.execute_input": "2024-09-07T15:19:13.801778Z",
     "iopub.status.busy": "2024-09-07T15:19:13.801325Z",
     "iopub.status.idle": "2024-09-07T15:19:14.111294Z",
     "shell.execute_reply": "2024-09-07T15:19:14.109905Z"
    },
    "papermill": {
     "duration": 0.328146,
     "end_time": "2024-09-07T15:19:14.114213",
     "exception": false,
     "start_time": "2024-09-07T15:19:13.786067",
     "status": "completed"
    },
    "tags": []
   },
   "outputs": [
    {
     "data": {
      "image/png": "[encoded data removed]",
      "text/plain": [
       "<Figure size 640x480 with 1 Axes>"
      ]
     },
     "metadata": {},
     "output_type": "display_data"
    }
   ],
   "source": [
    "plt.hist(np.log(houses['rent']));"
   ]
  },
  {
   "cell_type": "code",
   "execution_count": 15,
   "id": "e195777f",
   "metadata": {
    "execution": {
     "iopub.execute_input": "2024-09-07T15:19:14.144073Z",
     "iopub.status.busy": "2024-09-07T15:19:14.143523Z",
     "iopub.status.idle": "2024-09-07T15:19:14.151459Z",
     "shell.execute_reply": "2024-09-07T15:19:14.149990Z"
    },
    "papermill": {
     "duration": 0.026323,
     "end_time": "2024-09-07T15:19:14.154283",
     "exception": false,
     "start_time": "2024-09-07T15:19:14.127960",
     "status": "completed"
    },
    "tags": []
   },
   "outputs": [],
   "source": [
    "houses['extra_cost'] = houses['total']-houses['rent']"
   ]
  },
  {
   "cell_type": "code",
   "execution_count": 16,
   "id": "f0bda073",
   "metadata": {
    "execution": {
     "iopub.execute_input": "2024-09-07T15:19:14.184032Z",
     "iopub.status.busy": "2024-09-07T15:19:14.183596Z",
     "iopub.status.idle": "2024-09-07T15:19:14.479200Z",
     "shell.execute_reply": "2024-09-07T15:19:14.477625Z"
    },
    "papermill": {
     "duration": 0.314064,
     "end_time": "2024-09-07T15:19:14.482329",
     "exception": false,
     "start_time": "2024-09-07T15:19:14.168265",
     "status": "completed"
    },
    "tags": []
   },
   "outputs": [
    {
     "data": {
      "image/png": "[encoded data removed]",
      "text/plain": [
       "<Figure size 640x480 with 1 Axes>"
      ]
     },
     "metadata": {},
     "output_type": "display_data"
    }
   ],
   "source": [
    "import numpy as np\n",
    "import matplotlib.pyplot as plt\n",
    "\n",
    "# Gerar histograma dos valores log-transformados\n",
    "log_rent = np.log(houses['rent'])\n",
    "plt.hist(log_rent, bins=20)\n",
    "\n",
    "# Ajustar os rótulos do eixo x para exibir os valores de aluguel originais\n",
    "# Convertendo os valores do eixo x de volta à escala original usando np.exp\n",
    "locs, labels = plt.xticks()  # Obter as posições originais dos ticks no eixo x\n",
    "plt.xticks(locs, [f'{np.exp(x):,.0f}' for x in locs])  # Atualizar os rótulos com os valores de aluguel\n",
    "\n",
    "# Exibir o gráfico\n",
    "plt.xlabel('Aluguel (R$)')\n",
    "plt.ylabel('Frequência')\n",
    "plt.title('Histograma dos Aluguéis')\n",
    "plt.show()\n"
   ]
  },
  {
   "cell_type": "markdown",
   "id": "b9ab46df",
   "metadata": {
    "papermill": {
     "duration": 0.014166,
     "end_time": "2024-09-07T15:19:14.510624",
     "exception": false,
     "start_time": "2024-09-07T15:19:14.496458",
     "status": "completed"
    },
    "tags": []
   },
   "source": [
    "# Modelo preditivo"
   ]
  },
  {
   "cell_type": "code",
   "execution_count": 17,
   "id": "fec9ba0a",
   "metadata": {
    "execution": {
     "iopub.execute_input": "2024-09-07T15:19:14.541214Z",
     "iopub.status.busy": "2024-09-07T15:19:14.540354Z",
     "iopub.status.idle": "2024-09-07T15:19:14.889350Z",
     "shell.execute_reply": "2024-09-07T15:19:14.887994Z"
    },
    "papermill": {
     "duration": 0.367369,
     "end_time": "2024-09-07T15:19:14.892176",
     "exception": false,
     "start_time": "2024-09-07T15:19:14.524807",
     "status": "completed"
    },
    "tags": []
   },
   "outputs": [],
   "source": [
    "from sklearn.model_selection import train_test_split\n",
    "\n",
    "X = houses.drop(['rent','total'], axis=1)\n",
    "y = houses['rent']\n",
    "\n",
    "X_train, X_test, y_train, y_test = train_test_split(X, y, test_size=0.2, random_state=42)"
   ]
  },
  {
   "cell_type": "code",
   "execution_count": 18,
   "id": "449976e8",
   "metadata": {
    "execution": {
     "iopub.execute_input": "2024-09-07T15:19:14.923641Z",
     "iopub.status.busy": "2024-09-07T15:19:14.922283Z",
     "iopub.status.idle": "2024-09-07T15:19:14.932226Z",
     "shell.execute_reply": "2024-09-07T15:19:14.930326Z"
    },
    "papermill": {
     "duration": 0.029853,
     "end_time": "2024-09-07T15:19:14.935958",
     "exception": false,
     "start_time": "2024-09-07T15:19:14.906105",
     "status": "completed"
    },
    "tags": []
   },
   "outputs": [
    {
     "data": {
      "text/plain": [
       "((9325, 6), (2332, 6), (9325,), (2332,))"
      ]
     },
     "execution_count": 18,
     "metadata": {},
     "output_type": "execute_result"
    }
   ],
   "source": [
    "X_train.shape, X_test.shape, y_train.shape, y_test.shape"
   ]
  },
  {
   "cell_type": "code",
   "execution_count": 19,
   "id": "4fbd35e2",
   "metadata": {
    "execution": {
     "iopub.execute_input": "2024-09-07T15:19:14.966998Z",
     "iopub.status.busy": "2024-09-07T15:19:14.966559Z",
     "iopub.status.idle": "2024-09-07T15:19:14.972710Z",
     "shell.execute_reply": "2024-09-07T15:19:14.971356Z"
    },
    "papermill": {
     "duration": 0.024659,
     "end_time": "2024-09-07T15:19:14.975120",
     "exception": false,
     "start_time": "2024-09-07T15:19:14.950461",
     "status": "completed"
    },
    "tags": []
   },
   "outputs": [],
   "source": [
    "categorical_features = ['type']\n",
    "numerical_features = ['area', 'bedrooms', 'garage', 'bedroom_and_garage', 'extra_cost']"
   ]
  },
  {
   "cell_type": "code",
   "execution_count": 20,
   "id": "bbcce26a",
   "metadata": {
    "execution": {
     "iopub.execute_input": "2024-09-07T15:19:15.007109Z",
     "iopub.status.busy": "2024-09-07T15:19:15.006175Z",
     "iopub.status.idle": "2024-09-07T15:19:15.029545Z",
     "shell.execute_reply": "2024-09-07T15:19:15.027295Z"
    },
    "papermill": {
     "duration": 0.045126,
     "end_time": "2024-09-07T15:19:15.034420",
     "exception": false,
     "start_time": "2024-09-07T15:19:14.989294",
     "status": "completed"
    },
    "tags": []
   },
   "outputs": [],
   "source": [
    "from sklearn.preprocessing import OneHotEncoder\n",
    "ohe = OneHotEncoder(drop='first')\n",
    "X_train_categorical = ohe.fit_transform(X_train[categorical_features])\n",
    "X_test_categorical = ohe.transform(X_test[categorical_features])"
   ]
  },
  {
   "cell_type": "code",
   "execution_count": 21,
   "id": "c510b45a",
   "metadata": {
    "execution": {
     "iopub.execute_input": "2024-09-07T15:19:15.080395Z",
     "iopub.status.busy": "2024-09-07T15:19:15.079500Z",
     "iopub.status.idle": "2024-09-07T15:19:15.091216Z",
     "shell.execute_reply": "2024-09-07T15:19:15.089908Z"
    },
    "papermill": {
     "duration": 0.037908,
     "end_time": "2024-09-07T15:19:15.095150",
     "exception": false,
     "start_time": "2024-09-07T15:19:15.057242",
     "status": "completed"
    },
    "tags": []
   },
   "outputs": [
    {
     "data": {
      "text/plain": [
       "array([[0., 0., 0.],\n",
       "       [1., 0., 0.],\n",
       "       [0., 1., 0.],\n",
       "       ...,\n",
       "       [0., 0., 0.],\n",
       "       [0., 0., 0.],\n",
       "       [0., 0., 0.]])"
      ]
     },
     "execution_count": 21,
     "metadata": {},
     "output_type": "execute_result"
    }
   ],
   "source": [
    "X_train_categorical.toarray()"
   ]
  },
  {
   "cell_type": "code",
   "execution_count": 22,
   "id": "874d0d8a",
   "metadata": {
    "execution": {
     "iopub.execute_input": "2024-09-07T15:19:15.126331Z",
     "iopub.status.busy": "2024-09-07T15:19:15.125855Z",
     "iopub.status.idle": "2024-09-07T15:19:15.142600Z",
     "shell.execute_reply": "2024-09-07T15:19:15.141245Z"
    },
    "papermill": {
     "duration": 0.035513,
     "end_time": "2024-09-07T15:19:15.145469",
     "exception": false,
     "start_time": "2024-09-07T15:19:15.109956",
     "status": "completed"
    },
    "tags": []
   },
   "outputs": [
    {
     "data": {
      "text/plain": [
       "(9325, 9)"
      ]
     },
     "execution_count": 22,
     "metadata": {},
     "output_type": "execute_result"
    }
   ],
   "source": [
    "X_train_processed = pd.concat([pd.DataFrame(X_train_categorical.toarray()), X_train[numerical_features].reset_index()], axis=1)\n",
    "X_test_processed = pd.concat([pd.DataFrame(X_test_categorical.toarray()), X_test[numerical_features].reset_index()], axis=1)\n",
    "\n",
    "X_train_processed.shape"
   ]
  },
  {
   "cell_type": "code",
   "execution_count": 23,
   "id": "a3533886",
   "metadata": {
    "execution": {
     "iopub.execute_input": "2024-09-07T15:19:15.187360Z",
     "iopub.status.busy": "2024-09-07T15:19:15.185926Z",
     "iopub.status.idle": "2024-09-07T15:19:15.209744Z",
     "shell.execute_reply": "2024-09-07T15:19:15.208510Z"
    },
    "papermill": {
     "duration": 0.049599,
     "end_time": "2024-09-07T15:19:15.212470",
     "exception": false,
     "start_time": "2024-09-07T15:19:15.162871",
     "status": "completed"
    },
    "tags": []
   },
   "outputs": [
    {
     "data": {
      "text/html": [
       "<div>\n",
       "<style scoped>\n",
       "    .dataframe tbody tr th:only-of-type {\n",
       "        vertical-align: middle;\n",
       "    }\n",
       "\n",
       "    .dataframe tbody tr th {\n",
       "        vertical-align: top;\n",
       "    }\n",
       "\n",
       "    .dataframe thead th {\n",
       "        text-align: right;\n",
       "    }\n",
       "</style>\n",
       "<table border=\"1\" class=\"dataframe\">\n",
       "  <thead>\n",
       "    <tr style=\"text-align: right;\">\n",
       "      <th></th>\n",
       "      <th>0</th>\n",
       "      <th>1</th>\n",
       "      <th>2</th>\n",
       "      <th>index</th>\n",
       "      <th>area</th>\n",
       "      <th>bedrooms</th>\n",
       "      <th>garage</th>\n",
       "      <th>bedroom_and_garage</th>\n",
       "      <th>extra_cost</th>\n",
       "    </tr>\n",
       "  </thead>\n",
       "  <tbody>\n",
       "    <tr>\n",
       "      <th>0</th>\n",
       "      <td>0.0</td>\n",
       "      <td>0.0</td>\n",
       "      <td>0.0</td>\n",
       "      <td>9000</td>\n",
       "      <td>80</td>\n",
       "      <td>3</td>\n",
       "      <td>1</td>\n",
       "      <td>1</td>\n",
       "      <td>698</td>\n",
       "    </tr>\n",
       "    <tr>\n",
       "      <th>1</th>\n",
       "      <td>1.0</td>\n",
       "      <td>0.0</td>\n",
       "      <td>0.0</td>\n",
       "      <td>5378</td>\n",
       "      <td>70</td>\n",
       "      <td>2</td>\n",
       "      <td>0</td>\n",
       "      <td>0</td>\n",
       "      <td>265</td>\n",
       "    </tr>\n",
       "    <tr>\n",
       "      <th>2</th>\n",
       "      <td>0.0</td>\n",
       "      <td>1.0</td>\n",
       "      <td>0.0</td>\n",
       "      <td>10605</td>\n",
       "      <td>175</td>\n",
       "      <td>1</td>\n",
       "      <td>0</td>\n",
       "      <td>0</td>\n",
       "      <td>151</td>\n",
       "    </tr>\n",
       "    <tr>\n",
       "      <th>3</th>\n",
       "      <td>1.0</td>\n",
       "      <td>0.0</td>\n",
       "      <td>0.0</td>\n",
       "      <td>11396</td>\n",
       "      <td>375</td>\n",
       "      <td>4</td>\n",
       "      <td>4</td>\n",
       "      <td>1</td>\n",
       "      <td>1970</td>\n",
       "    </tr>\n",
       "    <tr>\n",
       "      <th>4</th>\n",
       "      <td>0.0</td>\n",
       "      <td>0.0</td>\n",
       "      <td>0.0</td>\n",
       "      <td>6605</td>\n",
       "      <td>60</td>\n",
       "      <td>2</td>\n",
       "      <td>1</td>\n",
       "      <td>1</td>\n",
       "      <td>790</td>\n",
       "    </tr>\n",
       "  </tbody>\n",
       "</table>\n",
       "</div>"
      ],
      "text/plain": [
       "     0    1    2  index  area  bedrooms  garage  bedroom_and_garage  \\\n",
       "0  0.0  0.0  0.0   9000    80         3       1                   1   \n",
       "1  1.0  0.0  0.0   5378    70         2       0                   0   \n",
       "2  0.0  1.0  0.0  10605   175         1       0                   0   \n",
       "3  1.0  0.0  0.0  11396   375         4       4                   1   \n",
       "4  0.0  0.0  0.0   6605    60         2       1                   1   \n",
       "\n",
       "   extra_cost  \n",
       "0         698  \n",
       "1         265  \n",
       "2         151  \n",
       "3        1970  \n",
       "4         790  "
      ]
     },
     "execution_count": 23,
     "metadata": {},
     "output_type": "execute_result"
    }
   ],
   "source": [
    "X_train_processed.head()"
   ]
  },
  {
   "cell_type": "code",
   "execution_count": 24,
   "id": "6760def6",
   "metadata": {
    "execution": {
     "iopub.execute_input": "2024-09-07T15:19:15.258937Z",
     "iopub.status.busy": "2024-09-07T15:19:15.257797Z",
     "iopub.status.idle": "2024-09-07T15:19:15.267887Z",
     "shell.execute_reply": "2024-09-07T15:19:15.266551Z"
    },
    "papermill": {
     "duration": 0.041614,
     "end_time": "2024-09-07T15:19:15.272549",
     "exception": false,
     "start_time": "2024-09-07T15:19:15.230935",
     "status": "completed"
    },
    "tags": []
   },
   "outputs": [],
   "source": [
    "X_train_processed = X_train_processed.drop(columns='index')\n",
    "X_test_processed = X_test_processed.drop(columns='index')"
   ]
  },
  {
   "cell_type": "code",
   "execution_count": 25,
   "id": "286c92ce",
   "metadata": {
    "execution": {
     "iopub.execute_input": "2024-09-07T15:19:15.313760Z",
     "iopub.status.busy": "2024-09-07T15:19:15.313256Z",
     "iopub.status.idle": "2024-09-07T15:19:15.331255Z",
     "shell.execute_reply": "2024-09-07T15:19:15.329762Z"
    },
    "papermill": {
     "duration": 0.040332,
     "end_time": "2024-09-07T15:19:15.334299",
     "exception": false,
     "start_time": "2024-09-07T15:19:15.293967",
     "status": "completed"
    },
    "tags": []
   },
   "outputs": [
    {
     "data": {
      "text/html": [
       "<div>\n",
       "<style scoped>\n",
       "    .dataframe tbody tr th:only-of-type {\n",
       "        vertical-align: middle;\n",
       "    }\n",
       "\n",
       "    .dataframe tbody tr th {\n",
       "        vertical-align: top;\n",
       "    }\n",
       "\n",
       "    .dataframe thead th {\n",
       "        text-align: right;\n",
       "    }\n",
       "</style>\n",
       "<table border=\"1\" class=\"dataframe\">\n",
       "  <thead>\n",
       "    <tr style=\"text-align: right;\">\n",
       "      <th></th>\n",
       "      <th>0</th>\n",
       "      <th>1</th>\n",
       "      <th>2</th>\n",
       "      <th>area</th>\n",
       "      <th>bedrooms</th>\n",
       "      <th>garage</th>\n",
       "      <th>bedroom_and_garage</th>\n",
       "      <th>extra_cost</th>\n",
       "    </tr>\n",
       "  </thead>\n",
       "  <tbody>\n",
       "    <tr>\n",
       "      <th>0</th>\n",
       "      <td>0.0</td>\n",
       "      <td>0.0</td>\n",
       "      <td>0.0</td>\n",
       "      <td>80</td>\n",
       "      <td>3</td>\n",
       "      <td>1</td>\n",
       "      <td>1</td>\n",
       "      <td>698</td>\n",
       "    </tr>\n",
       "    <tr>\n",
       "      <th>1</th>\n",
       "      <td>1.0</td>\n",
       "      <td>0.0</td>\n",
       "      <td>0.0</td>\n",
       "      <td>70</td>\n",
       "      <td>2</td>\n",
       "      <td>0</td>\n",
       "      <td>0</td>\n",
       "      <td>265</td>\n",
       "    </tr>\n",
       "    <tr>\n",
       "      <th>2</th>\n",
       "      <td>0.0</td>\n",
       "      <td>1.0</td>\n",
       "      <td>0.0</td>\n",
       "      <td>175</td>\n",
       "      <td>1</td>\n",
       "      <td>0</td>\n",
       "      <td>0</td>\n",
       "      <td>151</td>\n",
       "    </tr>\n",
       "    <tr>\n",
       "      <th>3</th>\n",
       "      <td>1.0</td>\n",
       "      <td>0.0</td>\n",
       "      <td>0.0</td>\n",
       "      <td>375</td>\n",
       "      <td>4</td>\n",
       "      <td>4</td>\n",
       "      <td>1</td>\n",
       "      <td>1970</td>\n",
       "    </tr>\n",
       "    <tr>\n",
       "      <th>4</th>\n",
       "      <td>0.0</td>\n",
       "      <td>0.0</td>\n",
       "      <td>0.0</td>\n",
       "      <td>60</td>\n",
       "      <td>2</td>\n",
       "      <td>1</td>\n",
       "      <td>1</td>\n",
       "      <td>790</td>\n",
       "    </tr>\n",
       "  </tbody>\n",
       "</table>\n",
       "</div>"
      ],
      "text/plain": [
       "     0    1    2  area  bedrooms  garage  bedroom_and_garage  extra_cost\n",
       "0  0.0  0.0  0.0    80         3       1                   1         698\n",
       "1  1.0  0.0  0.0    70         2       0                   0         265\n",
       "2  0.0  1.0  0.0   175         1       0                   0         151\n",
       "3  1.0  0.0  0.0   375         4       4                   1        1970\n",
       "4  0.0  0.0  0.0    60         2       1                   1         790"
      ]
     },
     "execution_count": 25,
     "metadata": {},
     "output_type": "execute_result"
    }
   ],
   "source": [
    "X_train_processed.head()"
   ]
  },
  {
   "cell_type": "code",
   "execution_count": 26,
   "id": "85d79bdb",
   "metadata": {
    "execution": {
     "iopub.execute_input": "2024-09-07T15:19:15.368531Z",
     "iopub.status.busy": "2024-09-07T15:19:15.367286Z",
     "iopub.status.idle": "2024-09-07T15:19:15.616617Z",
     "shell.execute_reply": "2024-09-07T15:19:15.615161Z"
    },
    "papermill": {
     "duration": 0.270053,
     "end_time": "2024-09-07T15:19:15.620128",
     "exception": false,
     "start_time": "2024-09-07T15:19:15.350075",
     "status": "completed"
    },
    "tags": []
   },
   "outputs": [],
   "source": [
    "from xgboost import XGBRegressor\n",
    "from sklearn.metrics import mean_squared_error"
   ]
  },
  {
   "cell_type": "code",
   "execution_count": 27,
   "id": "5cad3eee",
   "metadata": {
    "execution": {
     "iopub.execute_input": "2024-09-07T15:19:15.654235Z",
     "iopub.status.busy": "2024-09-07T15:19:15.653627Z",
     "iopub.status.idle": "2024-09-07T15:19:15.852500Z",
     "shell.execute_reply": "2024-09-07T15:19:15.851431Z"
    },
    "papermill": {
     "duration": 0.21945,
     "end_time": "2024-09-07T15:19:15.855323",
     "exception": false,
     "start_time": "2024-09-07T15:19:15.635873",
     "status": "completed"
    },
    "tags": []
   },
   "outputs": [
    {
     "data": {
      "text/html": [
       "<style>#sk-container-id-1 {color: black;background-color: white;}#sk-container-id-1 pre{padding: 0;}#sk-container-id-1 div.sk-toggleable {background-color: white;}#sk-container-id-1 label.sk-toggleable__label {cursor: pointer;display: block;width: 100%;margin-bottom: 0;padding: 0.3em;box-sizing: border-box;text-align: center;}#sk-container-id-1 label.sk-toggleable__label-arrow:before {content: \"▸\";float: left;margin-right: 0.25em;color: #696969;}#sk-container-id-1 label.sk-toggleable__label-arrow:hover:before {color: black;}#sk-container-id-1 div.sk-estimator:hover label.sk-toggleable__label-arrow:before {color: black;}#sk-container-id-1 div.sk-toggleable__content {max-height: 0;max-width: 0;overflow: hidden;text-align: left;background-color: #f0f8ff;}#sk-container-id-1 div.sk-toggleable__content pre {margin: 0.2em;color: black;border-radius: 0.25em;background-color: #f0f8ff;}#sk-container-id-1 input.sk-toggleable__control:checked~div.sk-toggleable__content {max-height: 200px;max-width: 100%;overflow: auto;}#sk-container-id-1 input.sk-toggleable__control:checked~label.sk-toggleable__label-arrow:before {content: \"▾\";}#sk-container-id-1 div.sk-estimator input.sk-toggleable__control:checked~label.sk-toggleable__label {background-color: #d4ebff;}#sk-container-id-1 div.sk-label input.sk-toggleable__control:checked~label.sk-toggleable__label {background-color: #d4ebff;}#sk-container-id-1 input.sk-hidden--visually {border: 0;clip: rect(1px 1px 1px 1px);clip: rect(1px, 1px, 1px, 1px);height: 1px;margin: -1px;overflow: hidden;padding: 0;position: absolute;width: 1px;}#sk-container-id-1 div.sk-estimator {font-family: monospace;background-color: #f0f8ff;border: 1px dotted black;border-radius: 0.25em;box-sizing: border-box;margin-bottom: 0.5em;}#sk-container-id-1 div.sk-estimator:hover {background-color: #d4ebff;}#sk-container-id-1 div.sk-parallel-item::after {content: \"\";width: 100%;border-bottom: 1px solid gray;flex-grow: 1;}#sk-container-id-1 div.sk-label:hover label.sk-toggleable__label {background-color: #d4ebff;}#sk-container-id-1 div.sk-serial::before {content: \"\";position: absolute;border-left: 1px solid gray;box-sizing: border-box;top: 0;bottom: 0;left: 50%;z-index: 0;}#sk-container-id-1 div.sk-serial {display: flex;flex-direction: column;align-items: center;background-color: white;padding-right: 0.2em;padding-left: 0.2em;position: relative;}#sk-container-id-1 div.sk-item {position: relative;z-index: 1;}#sk-container-id-1 div.sk-parallel {display: flex;align-items: stretch;justify-content: center;background-color: white;position: relative;}#sk-container-id-1 div.sk-item::before, #sk-container-id-1 div.sk-parallel-item::before {content: \"\";position: absolute;border-left: 1px solid gray;box-sizing: border-box;top: 0;bottom: 0;left: 50%;z-index: -1;}#sk-container-id-1 div.sk-parallel-item {display: flex;flex-direction: column;z-index: 1;position: relative;background-color: white;}#sk-container-id-1 div.sk-parallel-item:first-child::after {align-self: flex-end;width: 50%;}#sk-container-id-1 div.sk-parallel-item:last-child::after {align-self: flex-start;width: 50%;}#sk-container-id-1 div.sk-parallel-item:only-child::after {width: 0;}#sk-container-id-1 div.sk-dashed-wrapped {border: 1px dashed gray;margin: 0 0.4em 0.5em 0.4em;box-sizing: border-box;padding-bottom: 0.4em;background-color: white;}#sk-container-id-1 div.sk-label label {font-family: monospace;font-weight: bold;display: inline-block;line-height: 1.2em;}#sk-container-id-1 div.sk-label-container {text-align: center;}#sk-container-id-1 div.sk-container {/* jupyter's `normalize.less` sets `[hidden] { display: none; }` but bootstrap.min.css set `[hidden] { display: none !important; }` so we also need the `!important` here to be able to override the default hidden behavior on the sphinx rendered scikit-learn.org. See: https://github.com/scikit-learn/scikit-learn/issues/21755 */display: inline-block !important;position: relative;}#sk-container-id-1 div.sk-text-repr-fallback {display: none;}</style><div id=\"sk-container-id-1\" class=\"sk-top-container\"><div class=\"sk-text-repr-fallback\"><pre>XGBRegressor(base_score=None, booster=None, callbacks=None,\n",
       "             colsample_bylevel=None, colsample_bynode=None,\n",
       "             colsample_bytree=None, device=None, early_stopping_rounds=None,\n",
       "             enable_categorical=False, eval_metric=None, feature_types=None,\n",
       "             gamma=None, grow_policy=None, importance_type=None,\n",
       "             interaction_constraints=None, learning_rate=None, max_bin=None,\n",
       "             max_cat_threshold=None, max_cat_to_onehot=None,\n",
       "             max_delta_step=None, max_depth=None, max_leaves=None,\n",
       "             min_child_weight=None, missing=nan, monotone_constraints=None,\n",
       "             multi_strategy=None, n_estimators=None, n_jobs=None,\n",
       "             num_parallel_tree=None, random_state=None, ...)</pre><b>In a Jupyter environment, please rerun this cell to show the HTML representation or trust the notebook. <br />On GitHub, the HTML representation is unable to render, please try loading this page with nbviewer.org.</b></div><div class=\"sk-container\" hidden><div class=\"sk-item\"><div class=\"sk-estimator sk-toggleable\"><input class=\"sk-toggleable__control sk-hidden--visually\" id=\"sk-estimator-id-1\" type=\"checkbox\" checked><label for=\"sk-estimator-id-1\" class=\"sk-toggleable__label sk-toggleable__label-arrow\">XGBRegressor</label><div class=\"sk-toggleable__content\"><pre>XGBRegressor(base_score=None, booster=None, callbacks=None,\n",
       "             colsample_bylevel=None, colsample_bynode=None,\n",
       "             colsample_bytree=None, device=None, early_stopping_rounds=None,\n",
       "             enable_categorical=False, eval_metric=None, feature_types=None,\n",
       "             gamma=None, grow_policy=None, importance_type=None,\n",
       "             interaction_constraints=None, learning_rate=None, max_bin=None,\n",
       "             max_cat_threshold=None, max_cat_to_onehot=None,\n",
       "             max_delta_step=None, max_depth=None, max_leaves=None,\n",
       "             min_child_weight=None, missing=nan, monotone_constraints=None,\n",
       "             multi_strategy=None, n_estimators=None, n_jobs=None,\n",
       "             num_parallel_tree=None, random_state=None, ...)</pre></div></div></div></div></div>"
      ],
      "text/plain": [
       "XGBRegressor(base_score=None, booster=None, callbacks=None,\n",
       "             colsample_bylevel=None, colsample_bynode=None,\n",
       "             colsample_bytree=None, device=None, early_stopping_rounds=None,\n",
       "             enable_categorical=False, eval_metric=None, feature_types=None,\n",
       "             gamma=None, grow_policy=None, importance_type=None,\n",
       "             interaction_constraints=None, learning_rate=None, max_bin=None,\n",
       "             max_cat_threshold=None, max_cat_to_onehot=None,\n",
       "             max_delta_step=None, max_depth=None, max_leaves=None,\n",
       "             min_child_weight=None, missing=nan, monotone_constraints=None,\n",
       "             multi_strategy=None, n_estimators=None, n_jobs=None,\n",
       "             num_parallel_tree=None, random_state=None, ...)"
      ]
     },
     "execution_count": 27,
     "metadata": {},
     "output_type": "execute_result"
    }
   ],
   "source": [
    "xgb = XGBRegressor()\n",
    "\n",
    "xgb.fit(X_train_processed, y_train)"
   ]
  },
  {
   "cell_type": "code",
   "execution_count": 28,
   "id": "9c9d08f6",
   "metadata": {
    "execution": {
     "iopub.execute_input": "2024-09-07T15:19:15.890500Z",
     "iopub.status.busy": "2024-09-07T15:19:15.889947Z",
     "iopub.status.idle": "2024-09-07T15:19:15.905953Z",
     "shell.execute_reply": "2024-09-07T15:19:15.904274Z"
    },
    "papermill": {
     "duration": 0.038293,
     "end_time": "2024-09-07T15:19:15.909110",
     "exception": false,
     "start_time": "2024-09-07T15:19:15.870817",
     "status": "completed"
    },
    "tags": []
   },
   "outputs": [],
   "source": [
    "y_pred = xgb.predict(X_test_processed)"
   ]
  },
  {
   "cell_type": "code",
   "execution_count": 29,
   "id": "6bd26e69",
   "metadata": {
    "execution": {
     "iopub.execute_input": "2024-09-07T15:19:15.947894Z",
     "iopub.status.busy": "2024-09-07T15:19:15.946299Z",
     "iopub.status.idle": "2024-09-07T15:19:15.956222Z",
     "shell.execute_reply": "2024-09-07T15:19:15.954684Z"
    },
    "papermill": {
     "duration": 0.030625,
     "end_time": "2024-09-07T15:19:15.959145",
     "exception": false,
     "start_time": "2024-09-07T15:19:15.928520",
     "status": "completed"
    },
    "tags": []
   },
   "outputs": [
    {
     "name": "stdout",
     "output_type": "stream",
     "text": [
      "Mean Squared Error: 2525610.7065990483\n"
     ]
    }
   ],
   "source": [
    "mse = mean_squared_error(y_test, y_pred)\n",
    "print(f\"Mean Squared Error: {mse}\")"
   ]
  },
  {
   "cell_type": "code",
   "execution_count": 30,
   "id": "a1d2c88d",
   "metadata": {
    "execution": {
     "iopub.execute_input": "2024-09-07T15:19:15.994045Z",
     "iopub.status.busy": "2024-09-07T15:19:15.993598Z",
     "iopub.status.idle": "2024-09-07T15:19:16.326074Z",
     "shell.execute_reply": "2024-09-07T15:19:16.324408Z"
    },
    "papermill": {
     "duration": 0.353146,
     "end_time": "2024-09-07T15:19:16.329000",
     "exception": false,
     "start_time": "2024-09-07T15:19:15.975854",
     "status": "completed"
    },
    "tags": []
   },
   "outputs": [
    {
     "data": {
      "text/plain": [
       "<matplotlib.collections.PathCollection at 0x7aaf4c001d50>"
      ]
     },
     "execution_count": 30,
     "metadata": {},
     "output_type": "execute_result"
    },
    {
     "data": {
      "image/png": "[encoded data removed]",
      "text/plain": [
       "<Figure size 640x480 with 1 Axes>"
      ]
     },
     "metadata": {},
     "output_type": "display_data"
    }
   ],
   "source": [
    "plt.scatter(y_test, y_pred)"
   ]
  },
  {
   "cell_type": "code",
   "execution_count": 31,
   "id": "5c9bc3f8",
   "metadata": {
    "execution": {
     "iopub.execute_input": "2024-09-07T15:19:16.366562Z",
     "iopub.status.busy": "2024-09-07T15:19:16.365000Z",
     "iopub.status.idle": "2024-09-07T15:19:16.389396Z",
     "shell.execute_reply": "2024-09-07T15:19:16.387962Z"
    },
    "papermill": {
     "duration": 0.046376,
     "end_time": "2024-09-07T15:19:16.392453",
     "exception": false,
     "start_time": "2024-09-07T15:19:16.346077",
     "status": "completed"
    },
    "tags": []
   },
   "outputs": [
    {
     "data": {
      "text/html": [
       "<div>\n",
       "<style scoped>\n",
       "    .dataframe tbody tr th:only-of-type {\n",
       "        vertical-align: middle;\n",
       "    }\n",
       "\n",
       "    .dataframe tbody tr th {\n",
       "        vertical-align: top;\n",
       "    }\n",
       "\n",
       "    .dataframe thead th {\n",
       "        text-align: right;\n",
       "    }\n",
       "</style>\n",
       "<table border=\"1\" class=\"dataframe\">\n",
       "  <thead>\n",
       "    <tr style=\"text-align: right;\">\n",
       "      <th></th>\n",
       "      <th>0</th>\n",
       "      <th>1</th>\n",
       "      <th>2</th>\n",
       "      <th>area</th>\n",
       "      <th>bedrooms</th>\n",
       "      <th>garage</th>\n",
       "      <th>bedroom_and_garage</th>\n",
       "      <th>extra_cost</th>\n",
       "    </tr>\n",
       "  </thead>\n",
       "  <tbody>\n",
       "    <tr>\n",
       "      <th>0</th>\n",
       "      <td>0.0</td>\n",
       "      <td>0.0</td>\n",
       "      <td>0.0</td>\n",
       "      <td>60</td>\n",
       "      <td>2</td>\n",
       "      <td>1</td>\n",
       "      <td>1</td>\n",
       "      <td>947</td>\n",
       "    </tr>\n",
       "    <tr>\n",
       "      <th>1</th>\n",
       "      <td>0.0</td>\n",
       "      <td>0.0</td>\n",
       "      <td>0.0</td>\n",
       "      <td>70</td>\n",
       "      <td>2</td>\n",
       "      <td>0</td>\n",
       "      <td>0</td>\n",
       "      <td>682</td>\n",
       "    </tr>\n",
       "    <tr>\n",
       "      <th>2</th>\n",
       "      <td>0.0</td>\n",
       "      <td>0.0</td>\n",
       "      <td>0.0</td>\n",
       "      <td>118</td>\n",
       "      <td>2</td>\n",
       "      <td>0</td>\n",
       "      <td>0</td>\n",
       "      <td>1334</td>\n",
       "    </tr>\n",
       "    <tr>\n",
       "      <th>3</th>\n",
       "      <td>0.0</td>\n",
       "      <td>0.0</td>\n",
       "      <td>0.0</td>\n",
       "      <td>31</td>\n",
       "      <td>1</td>\n",
       "      <td>1</td>\n",
       "      <td>1</td>\n",
       "      <td>1005</td>\n",
       "    </tr>\n",
       "    <tr>\n",
       "      <th>4</th>\n",
       "      <td>0.0</td>\n",
       "      <td>0.0</td>\n",
       "      <td>0.0</td>\n",
       "      <td>70</td>\n",
       "      <td>3</td>\n",
       "      <td>1</td>\n",
       "      <td>1</td>\n",
       "      <td>507</td>\n",
       "    </tr>\n",
       "    <tr>\n",
       "      <th>...</th>\n",
       "      <td>...</td>\n",
       "      <td>...</td>\n",
       "      <td>...</td>\n",
       "      <td>...</td>\n",
       "      <td>...</td>\n",
       "      <td>...</td>\n",
       "      <td>...</td>\n",
       "      <td>...</td>\n",
       "    </tr>\n",
       "    <tr>\n",
       "      <th>2327</th>\n",
       "      <td>0.0</td>\n",
       "      <td>0.0</td>\n",
       "      <td>0.0</td>\n",
       "      <td>65</td>\n",
       "      <td>2</td>\n",
       "      <td>1</td>\n",
       "      <td>1</td>\n",
       "      <td>1407</td>\n",
       "    </tr>\n",
       "    <tr>\n",
       "      <th>2328</th>\n",
       "      <td>0.0</td>\n",
       "      <td>0.0</td>\n",
       "      <td>0.0</td>\n",
       "      <td>50</td>\n",
       "      <td>2</td>\n",
       "      <td>1</td>\n",
       "      <td>1</td>\n",
       "      <td>1002</td>\n",
       "    </tr>\n",
       "    <tr>\n",
       "      <th>2329</th>\n",
       "      <td>0.0</td>\n",
       "      <td>0.0</td>\n",
       "      <td>0.0</td>\n",
       "      <td>160</td>\n",
       "      <td>2</td>\n",
       "      <td>1</td>\n",
       "      <td>1</td>\n",
       "      <td>285</td>\n",
       "    </tr>\n",
       "    <tr>\n",
       "      <th>2330</th>\n",
       "      <td>0.0</td>\n",
       "      <td>0.0</td>\n",
       "      <td>0.0</td>\n",
       "      <td>48</td>\n",
       "      <td>2</td>\n",
       "      <td>1</td>\n",
       "      <td>1</td>\n",
       "      <td>535</td>\n",
       "    </tr>\n",
       "    <tr>\n",
       "      <th>2331</th>\n",
       "      <td>0.0</td>\n",
       "      <td>0.0</td>\n",
       "      <td>0.0</td>\n",
       "      <td>37</td>\n",
       "      <td>1</td>\n",
       "      <td>1</td>\n",
       "      <td>1</td>\n",
       "      <td>571</td>\n",
       "    </tr>\n",
       "  </tbody>\n",
       "</table>\n",
       "<p>2332 rows × 8 columns</p>\n",
       "</div>"
      ],
      "text/plain": [
       "        0    1    2  area  bedrooms  garage  bedroom_and_garage  extra_cost\n",
       "0     0.0  0.0  0.0    60         2       1                   1         947\n",
       "1     0.0  0.0  0.0    70         2       0                   0         682\n",
       "2     0.0  0.0  0.0   118         2       0                   0        1334\n",
       "3     0.0  0.0  0.0    31         1       1                   1        1005\n",
       "4     0.0  0.0  0.0    70         3       1                   1         507\n",
       "...   ...  ...  ...   ...       ...     ...                 ...         ...\n",
       "2327  0.0  0.0  0.0    65         2       1                   1        1407\n",
       "2328  0.0  0.0  0.0    50         2       1                   1        1002\n",
       "2329  0.0  0.0  0.0   160         2       1                   1         285\n",
       "2330  0.0  0.0  0.0    48         2       1                   1         535\n",
       "2331  0.0  0.0  0.0    37         1       1                   1         571\n",
       "\n",
       "[2332 rows x 8 columns]"
      ]
     },
     "execution_count": 31,
     "metadata": {},
     "output_type": "execute_result"
    }
   ],
   "source": [
    "X_test_processed"
   ]
  },
  {
   "cell_type": "code",
   "execution_count": 32,
   "id": "8627b952",
   "metadata": {
    "execution": {
     "iopub.execute_input": "2024-09-07T15:19:16.428468Z",
     "iopub.status.busy": "2024-09-07T15:19:16.427965Z",
     "iopub.status.idle": "2024-09-07T15:19:16.473392Z",
     "shell.execute_reply": "2024-09-07T15:19:16.471623Z"
    },
    "papermill": {
     "duration": 0.067335,
     "end_time": "2024-09-07T15:19:16.476530",
     "exception": false,
     "start_time": "2024-09-07T15:19:16.409195",
     "status": "completed"
    },
    "tags": []
   },
   "outputs": [
    {
     "name": "stdout",
     "output_type": "stream",
     "text": [
      "Predição para os novos dados: [3102.0862]\n"
     ]
    }
   ],
   "source": [
    "import pandas as pd\n",
    "import numpy as np\n",
    "\n",
    "# Supondo que você já tenha o modelo 'xgb' treinado\n",
    "\n",
    "# Crie um DataFrame com os valores que deseja prever\n",
    "# Estes são os valores manuais de entrada para as variáveis X\n",
    "novos_dados = pd.DataFrame({\n",
    "    0: [0.0],  # coluna 0 Studio\n",
    "    1: [0.0],  # coluna 1 Casa\n",
    "    2: [0.0],  # coluna 2 Casa Condominio\n",
    "    'area': [100],  # valor que você está inserindo manualmente\n",
    "    'bedrooms': [2],  # valor que você está inserindo manualmente\n",
    "    'garage': [1],  # valor que você está inserindo manualmente\n",
    "    'bedroom_and_garage': [1],  # valor que você está inserindo manualmente\n",
    "    'extra_cost': [500]  # valor que você está inserindo manualmente\n",
    "})\n",
    "\n",
    "# Se precisar de processamento, aplique o mesmo processamento que foi aplicado em X_test_processed\n",
    "# Exemplo: suponha que você tenha feito algum tipo de normalização ou transformação, aplique aqui\n",
    "\n",
    "# Prever o valor de Y com os novos dados\n",
    "y_pred = xgb.predict(novos_dados)\n",
    "\n",
    "# Exibir a predição\n",
    "print(f'Predição para os novos dados: {y_pred}')\n",
    "\n",
    "\n"
   ]
  }
 ],
 "metadata": {
  "kaggle": {
   "accelerator": "none",
   "dataSources": [
    {
     "datasetId": 3211119,
     "sourceId": 5579165,
     "sourceType": "datasetVersion"
    }
   ],
   "dockerImageVersionId": 30761,
   "isGpuEnabled": false,
   "isInternetEnabled": false,
   "language": "python",
   "sourceType": "notebook"
  },
  "kernelspec": {
   "display_name": "Python 3",
   "language": "python",
   "name": "python3"
  },
  "language_info": {
   "codemirror_mode": {
    "name": "ipython",
    "version": 3
   },
   "file_extension": ".py",
   "mimetype": "text/x-python",
   "name": "python",
   "nbconvert_exporter": "python",
   "pygments_lexer": "ipython3",
   "version": "3.10.14"
  },
  "papermill": {
   "default_parameters": {},
   "duration": 10.403168,
   "end_time": "2024-09-07T15:19:17.220590",
   "environment_variables": {},
   "exception": null,
   "input_path": "__notebook__.ipynb",
   "output_path": "__notebook__.ipynb",
   "parameters": {},
   "start_time": "2024-09-07T15:19:06.817422",
   "version": "2.6.0"
  }
 },
 "nbformat": 4,
 "nbformat_minor": 5
}
