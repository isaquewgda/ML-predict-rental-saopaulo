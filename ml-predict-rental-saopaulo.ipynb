{
 "cells": [
  {
   "cell_type": "code",
   "execution_count": 1,
   "id": "edaaf3c6",
   "metadata": {
    "_cell_guid": "b1076dfc-b9ad-4769-8c92-a6c4dae69d19",
    "_uuid": "8f2839f25d086af736a60e9eeb907d3b93b6e0e5",
    "execution": {
     "iopub.execute_input": "2024-09-07T13:31:27.972695Z",
     "iopub.status.busy": "2024-09-07T13:31:27.971896Z",
     "iopub.status.idle": "2024-09-07T13:31:28.327508Z",
     "shell.execute_reply": "2024-09-07T13:31:28.326572Z"
    },
    "papermill": {
     "duration": 0.36116,
     "end_time": "2024-09-07T13:31:28.329743",
     "exception": false,
     "start_time": "2024-09-07T13:31:27.968583",
     "status": "completed"
    },
    "tags": []
   },
   "outputs": [
    {
     "name": "stdout",
     "output_type": "stream",
     "text": [
      "/kaggle/input/sao-paulo-housing-prices/data.csv\n"
     ]
    }
   ],
   "source": [
    "#Dataset Sao Paulo Housing Prices\n",
    "\n",
    "import numpy as np # linear algebra\n",
    "import pandas as pd # data processing, CSV file I/O (e.g. pd.read_csv)\n",
    "\n",
    "import os\n",
    "for dirname, _, filenames in os.walk('/kaggle/input'):\n",
    "    for filename in filenames:\n",
    "        print(os.path.join(dirname, filename))\n",
    "\n"
   ]
  },
  {
   "cell_type": "code",
   "execution_count": null,
   "id": "c61d4cbf",
   "metadata": {
    "papermill": {
     "duration": 0.001466,
     "end_time": "2024-09-07T13:31:28.333368",
     "exception": false,
     "start_time": "2024-09-07T13:31:28.331902",
     "status": "completed"
    },
    "tags": []
   },
   "outputs": [],
   "source": []
  },
  {
   "cell_type": "code",
   "execution_count": null,
   "id": "10ff4121",
   "metadata": {
    "papermill": {
     "duration": 0.001335,
     "end_time": "2024-09-07T13:31:28.336269",
     "exception": false,
     "start_time": "2024-09-07T13:31:28.334934",
     "status": "completed"
    },
    "tags": []
   },
   "outputs": [],
   "source": []
  }
 ],
 "metadata": {
  "kaggle": {
   "accelerator": "none",
   "dataSources": [
    {
     "datasetId": 3211119,
     "sourceId": 5579165,
     "sourceType": "datasetVersion"
    }
   ],
   "dockerImageVersionId": 30761,
   "isGpuEnabled": false,
   "isInternetEnabled": false,
   "language": "python",
   "sourceType": "notebook"
  },
  "kernelspec": {
   "display_name": "Python 3",
   "language": "python",
   "name": "python3"
  },
  "language_info": {
   "codemirror_mode": {
    "name": "ipython",
    "version": 3
   },
   "file_extension": ".py",
   "mimetype": "text/x-python",
   "name": "python",
   "nbconvert_exporter": "python",
   "pygments_lexer": "ipython3",
   "version": "3.10.14"
  },
  "papermill": {
   "default_parameters": {},
   "duration": 3.0648,
   "end_time": "2024-09-07T13:31:28.656455",
   "environment_variables": {},
   "exception": null,
   "input_path": "__notebook__.ipynb",
   "output_path": "__notebook__.ipynb",
   "parameters": {},
   "start_time": "2024-09-07T13:31:25.591655",
   "version": "2.6.0"
  }
 },
 "nbformat": 4,
 "nbformat_minor": 5
}
